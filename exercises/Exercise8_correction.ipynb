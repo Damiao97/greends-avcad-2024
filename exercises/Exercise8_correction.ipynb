{
 "cells": [
  {
   "attachments": {},
   "cell_type": "markdown",
   "metadata": {},
   "source": [
    "# Analysis and Visualization of Complex Agro-Environmental Data\n",
    "---\n",
    "### Exercise #8 - correction"
   ]
  },
  {
   "cell_type": "code",
   "execution_count": null,
   "metadata": {},
   "outputs": [],
   "source": [
    "import pandas as pd\n",
    "import zipfile\n",
    "import seaborn as sns # For plotting\n",
    "import matplotlib.pyplot as plt # For showing plots\n",
    "import numpy as np # for getting our distribution\n",
    "import seaborn as sns # for plotting\n",
    "from scipy import stats # to compute statistics\n",
    "import statsmodels.api as sm"
   ]
  },
  {
   "cell_type": "code",
   "execution_count": null,
   "metadata": {},
   "outputs": [],
   "source": [
    "df = pd.read_csv('EFIplus_medit.zip',compression='zip', sep=\";\")\n",
    "df = df.dropna() # remove all rows with missing data"
   ]
  },
  {
   "cell_type": "markdown",
   "metadata": {},
   "source": [
    "#### 8.1. Run a simple linear regression relating the species richness with each one of the continuous environmental variables in the dataset: Altitude, Actual_river_slope, Elevation_mean_catch, prec_ann_catch, temp_ann, temp_jan, temp_jul. Before running the analyses, check if any of the variables requires to be transformed and apply the appropriate transformation. Compute the regression coefficient estimates, the r-square and the F-statistics. You may plot the fitted model."
   ]
  },
  {
   "cell_type": "markdown",
   "metadata": {},
   "source": [
    "1. create columns with species richness (from previous exercise)"
   ]
  },
  {
   "cell_type": "code",
   "execution_count": null,
   "metadata": {},
   "outputs": [],
   "source": [
    "# check the name of the first column of species names in the names list:\n",
    "list(df)"
   ]
  },
  {
   "cell_type": "code",
   "execution_count": null,
   "metadata": {},
   "outputs": [],
   "source": [
    "# Now check the index of the first species column\n",
    "df.columns.get_loc(\"Abramis brama\")"
   ]
  },
  {
   "cell_type": "code",
   "execution_count": null,
   "metadata": {},
   "outputs": [],
   "source": [
    "# The species columns goes from 56 to the last column - extract the name of the spceis columns\n",
    "sp_pres = df.columns[56:]\n",
    "sp_pres\n",
    "\n",
    "# sum all the species presence/absence data into a new column named 'sp_rich'\n",
    "df['sp_rich'] = df[sp_pres].sum(axis=1)"
   ]
  },
  {
   "cell_type": "markdown",
   "metadata": {},
   "source": [
    "2. subset df and transform data (from previous exercise)"
   ]
  },
  {
   "cell_type": "code",
   "execution_count": null,
   "metadata": {},
   "outputs": [],
   "source": [
    "# Subset the df by selecting the environmental variables and the species richness columns\n",
    "df_rich_env = df[[\"sp_rich\", \"Altitude\", \"Actual_river_slope\",\"Elevation_mean_catch\", \"prec_ann_catch\",\"temp_ann\",\"temp_jan\",\"temp_jul\"]]\n",
    "df_rich_env\n",
    "\n",
    "# Better to transform \"Actual_river_slope\" (e.g. log(x+1) - need to add 1 because there are 0's) - RUN IT ONLY ONCE!!!\n",
    "df_rich_env[['Actual_river_slope']] = np.log10(df_rich_env[['Actual_river_slope']]+1)\n",
    "sns.histplot(data=df_rich_env[[\"Actual_river_slope\"]])"
   ]
  },
  {
   "cell_type": "markdown",
   "metadata": {},
   "source": [
    "3. Run regressions"
   ]
  },
  {
   "cell_type": "code",
   "execution_count": null,
   "metadata": {},
   "outputs": [],
   "source": [
    "# Run regression for each environmental variable. import formula api as alias smf \n",
    "import statsmodels.formula.api as smf\n",
    "\n",
    "# formula: response ~ predictor\n",
    "model_alt = smf.ols(formula='sp_rich ~ Altitude', data=df_rich_env).fit().summary()\n",
    "model_slope = smf.ols(formula='sp_rich ~ Actual_river_slope', data=df_rich_env).fit().summary()\n",
    "model_elev = smf.ols(formula='sp_rich ~ Elevation_mean_catch', data=df_rich_env).fit().summary()\n",
    "model_prec = smf.ols(formula='sp_rich ~ prec_ann_catch', data=df_rich_env).fit().summary()\n",
    "model_temp = smf.ols(formula='sp_rich ~ temp_ann', data=df_rich_env).fit().summary()\n",
    "model_tempjan = smf.ols(formula='sp_rich ~ temp_jan', data=df_rich_env).fit().summary()\n",
    "model_tempjul = smf.ols(formula='sp_rich ~ temp_jul', data=df_rich_env).fit().summary()\n",
    "\n",
    "print(model_alt)\n",
    "print(model_slope)\n",
    "print(model_elev)\n",
    "print(model_prec)\n",
    "print(model_temp)\n",
    "print(model_tempjan)\n",
    "print(model_tempjul)\n"
   ]
  },
  {
   "cell_type": "code",
   "execution_count": null,
   "metadata": {},
   "outputs": [],
   "source": [
    "sns.lmplot(x='Altitude', y='sp_rich', data=df_rich_env)\n",
    "sns.lmplot(x='Actual_river_slope', y='sp_rich', data=df_rich_env)\n",
    "sns.lmplot(x='Elevation_mean_catch', y='sp_rich', data=df_rich_env)\n",
    "sns.lmplot(x='prec_ann_catch', y='sp_rich', data=df_rich_env)\n",
    "sns.lmplot(x='temp_ann', y='sp_rich', data=df_rich_env)\n",
    "sns.lmplot(x='temp_jan', y='sp_rich', data=df_rich_env)"
   ]
  },
  {
   "cell_type": "code",
   "execution_count": null,
   "metadata": {},
   "outputs": [],
   "source": [
    "# Alternative using a loop\n",
    "\n",
    "import statsmodels.api as sm\n",
    "\n",
    "explan_vars = [\"Altitude\", \"Actual_river_slope\",\"Elevation_mean_catch\", \"prec_ann_catch\",\"temp_ann\",\"temp_jan\",\"temp_jul\"]\n",
    "\n",
    "# Loop\n",
    "for Xi in explan_vars: # loop for each variable name\n",
    "    # Extract the response and explanatory variables\n",
    "    y = df_rich_env['sp_rich']\n",
    "    X = df_rich_env[Xi]\n",
    "    \n",
    "    # Add a constant term to the explanatory variable (intercept term)\n",
    "    X = sm.add_constant(X)\n",
    "    \n",
    "    # Fit the linear regression model\n",
    "    model = sm.OLS(y, X)\n",
    "    results = model.fit()\n",
    "    \n",
    "    # Print the results\n",
    "    print(results.summary())"
   ]
  },
  {
   "attachments": {},
   "cell_type": "markdown",
   "metadata": {},
   "source": [
    "#### 8.2 Now try to run a multiple linear regression with the same data and check the differences between the previous univariate regression coefficients and the new coefficients. Plot the partial dependence plots to compare responses with the previous single effects.\n"
   ]
  },
  {
   "cell_type": "code",
   "execution_count": null,
   "metadata": {},
   "outputs": [],
   "source": [
    "# Multiple linear regression with the same data and check the differences between the previous univariate regression coefficients and new coefficients\n",
    "\n",
    "y=df_rich_env[\"sp_rich\"]\n",
    "x=df_rich_env[[\"Altitude\", \"Actual_river_slope\",\"Elevation_mean_catch\", \"prec_ann_catch\",\"temp_ann\",\"temp_jan\",\"temp_jul\"]]\n",
    "\n",
    "x = sm.add_constant(x) # adding a constant (Intercept)\n",
    "\n",
    "model = sm.OLS(y, x).fit()\n",
    "predictions = model.predict(df_rich_env) \n",
    "\n",
    "print_model = model.summary()\n",
    "print(print_model)"
   ]
  },
  {
   "cell_type": "code",
   "execution_count": null,
   "metadata": {},
   "outputs": [],
   "source": [
    "# Get partial dependency plots (compare with the univariate plots above)\n",
    "fig = plt.figure(figsize=(8, 10))\n",
    "sm.graphics.plot_partregress_grid(model, fig=fig)\n",
    "fig.tight_layout(pad=1.0)\n",
    "plt.show()"
   ]
  },
  {
   "attachments": {},
   "cell_type": "markdown",
   "metadata": {},
   "source": [
    "#### 8.3 Check the multicolinearity among the predictor variables and run a second more parsimonious regression model. Check how the coefficients have changed."
   ]
  },
  {
   "cell_type": "code",
   "execution_count": null,
   "metadata": {},
   "outputs": [],
   "source": [
    "# Visualization of the correlation matrix\n",
    "\n",
    "# Create plotting function\n",
    "def corrdot(*args, **kwargs):\n",
    "    corr_r = args[0].corr(args[1], 'pearson')\n",
    "    corr_text = f\"{corr_r:2.2f}\".replace(\"0.\", \".\")\n",
    "    ax = plt.gca()\n",
    "    ax.set_axis_off()\n",
    "    marker_size = abs(corr_r) * 10000\n",
    "    ax.scatter([.5], [.5], marker_size, [corr_r], alpha=0.6, cmap=\"coolwarm\",\n",
    "               vmin=-1, vmax=1, transform=ax.transAxes)\n",
    "    font_size = abs(corr_r) * 40 + 5\n",
    "    ax.annotate(corr_text, [.5, .5,],  xycoords=\"axes fraction\",\n",
    "                ha='center', va='center', fontsize=font_size)\n",
    "\n",
    "# Subset by selecting environmental variables only\n",
    "df_env = df_rich_env[[\"Altitude\", \"Actual_river_slope\",\"Elevation_mean_catch\", \"prec_ann_catch\",\"temp_ann\",\"temp_jan\",\"temp_jul\"]]\n",
    "\n",
    "# Plot the matrix\n",
    "sns.set(style='white', font_scale=1.6)\n",
    "g = sns.PairGrid(df_env, aspect=1.4, diag_sharey=False)\n",
    "g.map_lower(sns.regplot, lowess=True, ci=False, line_kws={'color': 'black'})\n",
    "g.map_diag(sns.histplot, kde_kws={'color': 'black'})\n",
    "g.map_upper(corrdot);"
   ]
  },
  {
   "cell_type": "code",
   "execution_count": null,
   "metadata": {},
   "outputs": [],
   "source": [
    "# Better to remove altitude, elevation of the upstream catchment and mean annual temperature from the model\n",
    "\n",
    "y=df_rich_env[\"sp_rich\"]\n",
    "x=df_rich_env[[\"Actual_river_slope\", \"prec_ann_catch\",\"temp_jan\",\"temp_jul\"]]\n",
    "\n",
    "x = sm.add_constant(x) # adding a constant (Intercept)\n",
    "\n",
    "model = sm.OLS(y, x).fit()\n",
    "\n",
    "print_model = model.summary()\n",
    "print(print_model)"
   ]
  }
 ],
 "metadata": {
  "kernelspec": {
   "display_name": "Python 3",
   "language": "python",
   "name": "python3"
  },
  "language_info": {
   "codemirror_mode": {
    "name": "ipython",
    "version": 3
   },
   "file_extension": ".py",
   "mimetype": "text/x-python",
   "name": "python",
   "nbconvert_exporter": "python",
   "pygments_lexer": "ipython3",
   "version": "3.11.2"
  },
  "orig_nbformat": 4
 },
 "nbformat": 4,
 "nbformat_minor": 2
}
