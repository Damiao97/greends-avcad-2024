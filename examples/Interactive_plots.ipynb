{
 "cells": [
  {
   "attachments": {},
   "cell_type": "markdown",
   "metadata": {},
   "source": [
    "# Analysis and Visualization of Complex Agro-Environmental Data\n",
    "---\n",
    "## Interactive visualization in python with `Bokeh`, `Plotly`, `Dash` and `Altair`\n",
    "\n",
    "### 1. Bokeh\n",
    "\n",
    "`Bokeh` is a Python's module for interactive da visualizations. The plots are created by stacking layers on top of each other. The first step is to create an empty figure, to which elements are added in layers. These elements are known as glyphs, which can be anything from lines to bars to circles. Attached to each glyph are properties such as color, size and coordinates."
   ]
  },
  {
   "cell_type": "code",
   "execution_count": null,
   "metadata": {},
   "outputs": [],
   "source": [
    "import numpy as np\n",
    "import pandas as pd\n",
    "import matplotlib.pyplot as plt\n"
   ]
  },
  {
   "attachments": {},
   "cell_type": "markdown",
   "metadata": {},
   "source": [
    "#### 1.1 Data preparation\n",
    "\n",
    "Download 2 datasets: (1) CO2 emissions per person per year per country and (2) GDP per year per country:"
   ]
  },
  {
   "cell_type": "code",
   "execution_count": null,
   "metadata": {},
   "outputs": [],
   "source": [
    "url_co2 = 'https://raw.githubusercontent.com/TrainingByPackt/Interactive-Data-Visualization-with-Python/master/datasets/co2.csv'\n",
    "co2 = pd.read_csv(url_co2)\n",
    "url_gm = 'https://raw.githubusercontent.com/TrainingByPackt/Interactive-Data-Visualization-with-Python/master/datasets/gapminder.csv'\n",
    "gm = pd.read_csv(url_gm)"
   ]
  },
  {
   "cell_type": "code",
   "execution_count": null,
   "metadata": {},
   "outputs": [],
   "source": [
    "# Check co2 table\n",
    "co2.head()"
   ]
  },
  {
   "cell_type": "code",
   "execution_count": null,
   "metadata": {},
   "outputs": [],
   "source": [
    "# Check gm table\n",
    "gm.head()"
   ]
  },
  {
   "attachments": {},
   "cell_type": "markdown",
   "metadata": {},
   "source": [
    "Transform the dataset - intersect datasets"
   ]
  },
  {
   "cell_type": "code",
   "execution_count": null,
   "metadata": {},
   "outputs": [],
   "source": [
    "# Drop duplicates in gm\n",
    "df_gm = gm[['Country', 'region']].drop_duplicates()\n",
    "# Combine the 2 datasets (merge by country)\n",
    "df_w_regions = pd.merge(co2, df_gm, left_on ='country', right_on ='Country', how ='inner') # intersection of both keys, keep order from 'left'\n",
    "# Drop one Country column\n",
    "df_w_regions = df_w_regions.drop('Country', axis='columns')\n",
    "df_w_regions.head()"
   ]
  },
  {
   "attachments": {},
   "cell_type": "markdown",
   "metadata": {},
   "source": [
    "Transform the dataset - stack by year"
   ]
  },
  {
   "cell_type": "code",
   "execution_count": null,
   "metadata": {},
   "outputs": [],
   "source": [
    "# change the format of the DataFrame into one that has identifier variables of our choice (here, country and region).\n",
    "new_co2 = pd.melt(df_w_regions, id_vars=['country', 'region'])\n",
    "new_co2\n"
   ]
  },
  {
   "cell_type": "code",
   "execution_count": null,
   "metadata": {},
   "outputs": [],
   "source": [
    "columns = ['country', 'region', 'year', 'co2'] # new names for columns\n",
    "new_co2.columns = columns # change column names to new names\n",
    "new_co2.head()"
   ]
  },
  {
   "cell_type": "code",
   "execution_count": null,
   "metadata": {},
   "outputs": [],
   "source": [
    "# Select data from 1964 onwards, sort by country and then year\n",
    "df_co2 = new_co2[new_co2['year'].astype('int64') > 1963]\n",
    "df_co2 = df_co2.sort_values(by=['country', 'year'])\n",
    "df_co2['year'] = df_co2['year'].astype('int64')\n",
    "df_co2.head()"
   ]
  },
  {
   "attachments": {},
   "cell_type": "markdown",
   "metadata": {},
   "source": [
    "Create similar table for GDP per year per country"
   ]
  },
  {
   "cell_type": "code",
   "execution_count": null,
   "metadata": {},
   "outputs": [],
   "source": [
    "df_gdp = gm[['Country', 'Year', 'gdp']]\n",
    "df_gdp.columns = ['country', 'year', 'gdp']\n",
    "df_gdp.head()"
   ]
  },
  {
   "attachments": {},
   "cell_type": "markdown",
   "metadata": {},
   "source": [
    "Merge datasets"
   ]
  },
  {
   "cell_type": "code",
   "execution_count": null,
   "metadata": {},
   "outputs": [],
   "source": [
    "data = pd.merge(df_co2, df_gdp, on=['country', 'year'], how='left')\n",
    "data = data.dropna()\n",
    "data.head()"
   ]
  },
  {
   "attachments": {},
   "cell_type": "markdown",
   "metadata": {},
   "source": [
    "#### 1.2 Running Bokeh\n",
    "\n",
    "Import Bokeh and functions"
   ]
  },
  {
   "cell_type": "code",
   "execution_count": null,
   "metadata": {},
   "outputs": [],
   "source": [
    "from bokeh.io import curdoc, output_notebook\n",
    "from bokeh.plotting import figure, show\n",
    "from bokeh.models import HoverTool, ColumnDataSource, CategoricalColorMapper, Slider\n",
    "from bokeh.palettes import Spectral6\n",
    "from bokeh.layouts import column, row"
   ]
  },
  {
   "attachments": {},
   "cell_type": "markdown",
   "metadata": {},
   "source": [
    "#### Prepare base static plot"
   ]
  },
  {
   "cell_type": "code",
   "execution_count": null,
   "metadata": {},
   "outputs": [],
   "source": [
    "# load BokehJS - enables the plot to be displayed within the notebook\n",
    "output_notebook()"
   ]
  },
  {
   "cell_type": "code",
   "execution_count": null,
   "metadata": {},
   "outputs": [],
   "source": [
    "# create list of regions - to color the datapoints based on the region\n",
    "regions_list = data.region.unique().tolist()\n",
    "# assign colors to each region\n",
    "color_mapper = CategoricalColorMapper(factors=regions_list, palette=Spectral6)"
   ]
  },
  {
   "cell_type": "code",
   "execution_count": null,
   "metadata": {},
   "outputs": [],
   "source": [
    "# make a data source for the plot\n",
    "source = ColumnDataSource(data={\n",
    "    'x': data.gdp[data['year'] == 2010],\n",
    "    'y': data.co2[data['year'] == 2010],\n",
    "    'country': data.country[data['year'] == 2010],\n",
    "    'region': data.region[data['year'] == 2010],\n",
    "})"
   ]
  },
  {
   "cell_type": "code",
   "execution_count": null,
   "metadata": {},
   "outputs": [],
   "source": [
    "# Save the minimum and maximum values of the gdp column: xmin, xmax\n",
    "xmin, xmax = min(data.gdp), max(data.gdp)\n",
    "\n",
    "# Save the minimum and maximum values of the co2 column: ymin, ymax\n",
    "ymin, ymax = min(data.co2), max(data.co2)"
   ]
  },
  {
   "cell_type": "code",
   "execution_count": null,
   "metadata": {},
   "outputs": [],
   "source": [
    "# Create the figure: plot\n",
    "plot = figure(title='CO2 Emissions vs GDP in 2010', \n",
    "              height=600, width=1000,\n",
    "              x_range=(xmin, xmax),\n",
    "              y_range=(ymin, ymax), y_axis_type='log')"
   ]
  },
  {
   "cell_type": "code",
   "execution_count": null,
   "metadata": {},
   "outputs": [],
   "source": [
    "# Add circle glyphs to the plot\n",
    "plot.circle(x='x', y='y', fill_alpha=0.8, source=source, legend_field='region',\n",
    "            color=dict(field='region', transform=color_mapper),\n",
    "            size=7)"
   ]
  },
  {
   "cell_type": "code",
   "execution_count": null,
   "metadata": {},
   "outputs": [],
   "source": [
    "# Produce interactive plot\n",
    "# Set the legend.location attribute of the plot\n",
    "plot.legend.location = 'bottom_right'\n",
    "\n",
    "# Set the x-axis label\n",
    "plot.xaxis.axis_label = 'Income Per Person'\n",
    "\n",
    "# Set the y-axis label\n",
    "plot.yaxis.axis_label = 'CO2 Emissions (tons per person)'\n",
    "show(plot)"
   ]
  },
  {
   "attachments": {},
   "cell_type": "markdown",
   "metadata": {},
   "source": [
    "#### Adding a hover tool"
   ]
  },
  {
   "cell_type": "code",
   "execution_count": null,
   "metadata": {},
   "outputs": [],
   "source": [
    "# Create a HoverTool - will allow the user to hover above a datapoint to see the name of the country, CO2 emissions nd GDP\n",
    "hover = HoverTool(tooltips=[('Country', '@country'), ('GDP', '@x'), ('CO2 Emission', '@y')])\n",
    "\n",
    "# Add the HoverTool to the plot\n",
    "plot.add_tools(hover)\n",
    "\n",
    "show(plot)"
   ]
  },
  {
   "attachments": {},
   "cell_type": "markdown",
   "metadata": {},
   "source": [
    "#### Adding a slider to the static plot"
   ]
  },
  {
   "cell_type": "code",
   "execution_count": null,
   "metadata": {},
   "outputs": [],
   "source": [
    "# Make a slider object: slider\n",
    "# Set the start as the 1st year and the end as the last year in the year column\n",
    "# Set step as 1 and the value as the minimum value of the year column\n",
    "slider = Slider(start=min(data.year), end=max(data.year), step=1, value=min(data.year), title='Year')\n",
    "\n",
    "# create function that will update the plot every time the silider is moved\n",
    "def update_plot(attr, old, new):\n",
    "    # set the `yr` name to `slider.value` and `source.data = new_data`\n",
    "    yr = slider.value\n",
    "    new_data = {\n",
    "        'x': data.gdp[data['year'] == yr],\n",
    "        'y': data.co2[data['year'] == yr],\n",
    "        'country': data.country[data['year'] == yr],\n",
    "        'region': data.region[data['year'] == yr],\n",
    "    }\n",
    "    source.data = new_data\n",
    "    plot.title.text = 'CO2 Emissions vs GDP in %d' % yr\n",
    "\n",
    "# Attach the callback to the 'value' property of slider\n",
    "slider.on_change('value', update_plot)\n",
    "layout = column(slider, plot)\n",
    "curdoc().add_root(layout)\n",
    "\n",
    "show(layout)\n",
    "\n",
    "# ERROR!!! - no slider is shown"
   ]
  },
  {
   "cell_type": "code",
   "execution_count": null,
   "metadata": {},
   "outputs": [],
   "source": [
    "# Update source, plot, and scatter for start at initial year\n",
    "# Initial year\n",
    "initial_year = min(data.year)\n",
    "\n",
    "# Create a ColumnDataSource\n",
    "source_slide = ColumnDataSource(data={\n",
    "    'x': data.gdp[data['year'] == initial_year],\n",
    "    'y': data.co2[data['year'] == initial_year],\n",
    "    'country': data.country[data['year'] == initial_year],\n",
    "    'region': data.region[data['year'] == initial_year],\n",
    "})\n",
    "\n",
    "# Create the figure: plot\n",
    "plot = figure(title='CO2 Emissions vs GDP', \n",
    "              height=600, width=1000,\n",
    "              x_range=(xmin, xmax),\n",
    "              y_range=(ymin, ymax), y_axis_type='log')\n",
    "\n",
    "# Add circle glyphs to the plot\n",
    "plot.scatter(x='x', y='y', fill_alpha=0.8, source=source_slide, legend_field='region',\n",
    "            color=dict(field='region', transform=color_mapper),\n",
    "            size=7)\n",
    "\n",
    "# Make a slider object: slider\n",
    "slider = Slider(start=min(data.year), end=max(data.year), step=1, value=min(data.year), title='Year')\n",
    "\n",
    "# Convert pandas DataFrame to dict to pass to CustomJS\n",
    "data_dict = data.to_dict(orient='list')\n",
    "\n",
    "# Create a CustomJS callback\n",
    "callback = CustomJS(args=dict(source=source_slide, data=data_dict, plot=plot), code=\"\"\"\n",
    "    var data = data;\n",
    "    var year = cb_obj.value;\n",
    "    var new_data = {\n",
    "        'x': [],\n",
    "        'y': [],\n",
    "        'country': [],\n",
    "        'region': []\n",
    "    };\n",
    "\n",
    "    for (var i = 0; i < data.year.length; i++) {\n",
    "        if (data.year[i] == year) {\n",
    "            new_data['x'].push(data.gdp[i]);\n",
    "            new_data['y'].push(data.co2[i]);\n",
    "            new_data['country'].push(data.country[i]);\n",
    "            new_data['region'].push(data.region[i]);\n",
    "        }\n",
    "    }\n",
    "\n",
    "    source.data = new_data;\n",
    "    source.change.emit();\n",
    "    plot.title.text = 'CO2 Emissions vs GDP in ' + year;\n",
    "\"\"\")\n",
    "\n",
    "# Attach the callback to the slider\n",
    "slider.js_on_change('value', callback)\n",
    "\n",
    "# Layout and show\n",
    "layout = column(slider, plot)\n",
    "show(layout)"
   ]
  },
  {
   "attachments": {},
   "cell_type": "markdown",
   "metadata": {},
   "source": [
    "#### Creating a standalone HTML file"
   ]
  },
  {
   "cell_type": "code",
   "execution_count": null,
   "metadata": {},
   "outputs": [],
   "source": [
    "from bokeh.plotting import figure, output_file, save\n",
    "\n",
    "output_file(filename=\"custom_filename.html\", title=\"Static HTML file\")\n",
    "\n",
    "save(plot, \"bokeh_plot.html\") # save html plot\n",
    "\n",
    "show(plot) # show plot in the web browser"
   ]
  },
  {
   "attachments": {},
   "cell_type": "markdown",
   "metadata": {},
   "source": [
    "#### Slider example from https://www.geeksforgeeks.org/add-interactive-slider-to-bokeh-plots/"
   ]
  },
  {
   "cell_type": "code",
   "execution_count": null,
   "metadata": {},
   "outputs": [],
   "source": [
    "from bokeh.layouts import column\n",
    "from bokeh.models import ColumnDataSource, Slider, CustomJS\n",
    "from bokeh.plotting import figure, output_file, show\n",
    "import numpy as np\n",
    "  \n",
    "x2 = np.linspace(0, 10, 500)\n",
    "y2 = np.sin(x2)\n",
    "  \n",
    "source2 = ColumnDataSource(data=dict(x=x2, y=y2))\n",
    "  \n",
    "# Create plots and widgets\n",
    "plot = figure()\n",
    "  \n",
    "plot.line('x', 'y', source=source2, line_width=3, line_alpha=0.5)\n",
    "  \n",
    "# Create Slider object\n",
    "slider2 = Slider(start=0, end=6, value=2,\n",
    "                step=0.2, title='Number of points')\n",
    "  \n",
    "# Adding callback code\n",
    "callback = CustomJS(args=dict(source=source2, val=slider2),\n",
    "                    code=\"\"\"\n",
    "    const data = source.data;\n",
    "    const freq = val.value;\n",
    "    const x = data['x'];\n",
    "    const y = data['y'];\n",
    "   for (var i = 0; i < x.length; i++) {\n",
    "        y[i] = Math.sin(freq*x[i]);\n",
    "    }\n",
    "      \n",
    "    source.change.emit();\n",
    "\"\"\")\n",
    "  \n",
    "slider2.js_on_change('value', callback)\n",
    "  \n",
    "# Arrange plots and widgets in layouts\n",
    "layout2 = column(slider2, plot)\n",
    "  \n",
    "output_file('exam.html')\n",
    "  \n",
    "show(layout2)"
   ]
  },
  {
   "attachments": {},
   "cell_type": "markdown",
   "metadata": {},
   "source": [
    "### 2. Plotly\n",
    "\n",
    "`plotly` is a very popular Python module used to create interactive data visualizations. It is a JSON-based plotting tool, and so every plot is defined by 2 JSON objects - data and layout. \n",
    "\n",
    "A simplified and more user friendly version of `plotly` is `plotly express` which is provides a high-level wrapper around the base `plotly code, resulting in a minimized syntax abd commands.\n",
    "\n",
    "#### Creating an interactive scatter plot\n",
    "\n",
    "We will use the same dataset created for Bokeh in the previous example."
   ]
  },
  {
   "cell_type": "code",
   "execution_count": null,
   "metadata": {},
   "outputs": [],
   "source": [
    "# Save the minimum and maximum values of the gdp column: xmin, xmax\n",
    "xmin, xmax = min(data.gdp), max(data.gdp)\n",
    "# Save the minimum and maximum values of the co2 column: ymin, ymax\n",
    "ymin, ymax = min(data.co2), max(data.co2)"
   ]
  },
  {
   "cell_type": "code",
   "execution_count": null,
   "metadata": {},
   "outputs": [],
   "source": [
    "import pandas as pd\n",
    "import plotly.express as px\n",
    "\n",
    "fig = px.scatter(data, x=\"gdp\", y=\"co2\", animation_frame=\"year\", animation_group=\"country\",\n",
    "           color=\"region\", hover_name=\"country\", facet_col=\"region\", width=1579, height=400,\n",
    "           log_x=True, size_max=45, range_x=[xmin,xmax], range_y=[ymin,ymax])\n",
    "\n",
    "fig.show()"
   ]
  },
  {
   "cell_type": "code",
   "execution_count": null,
   "metadata": {},
   "outputs": [],
   "source": [
    "# Aggregate in a single plot (by removing facet_col=\"region\") and add rug and boxplot.\n",
    "fig = px.scatter(data, x=\"gdp\", y=\"co2\", animation_frame=\"year\", \n",
    "        color=\"region\", hover_name=\"country\", width=1000, height=600,\n",
    "        size_max=45, range_x=[xmin,xmax], range_y=[ymin,ymax], \n",
    "        marginal_y = 'box', marginal_x = 'rug') # add a boxplot in the left side and rug plot on top\n",
    "\n",
    "fig.show()"
   ]
  },
  {
   "cell_type": "code",
   "execution_count": null,
   "metadata": {},
   "outputs": [],
   "source": [
    "# N0w using a density contour plot instead of a scatter plot\n",
    "fig = px.density_contour(data, x=\"gdp\", y=\"co2\", animation_frame=\"year\", \n",
    "        color=\"region\", hover_name=\"country\", width=1000, height=600,\n",
    "        range_x=[xmin,xmax], range_y=[ymin,ymax], \n",
    "        marginal_y = 'box', marginal_x = 'rug') # add a boxplot in the left side and rug plot on top\n",
    "\n",
    "fig.show()"
   ]
  },
  {
   "cell_type": "code",
   "execution_count": null,
   "metadata": {},
   "outputs": [],
   "source": [
    "fig = px.scatter(data, x=\"year\", y=\"co2\", color=\"region\", hover_name=\"country\", width=1000, height=500,\n",
    "           size_max=45, marginal_y = 'box')\n",
    "\n",
    "fig.show()"
   ]
  },
  {
   "attachments": {},
   "cell_type": "markdown",
   "metadata": {},
   "source": [
    "#### Visualizing an output of Principal Component Analysis\n",
    "\n",
    "##### Example using the `Penguin` dataset"
   ]
  },
  {
   "cell_type": "code",
   "execution_count": null,
   "metadata": {},
   "outputs": [],
   "source": [
    "import numpy as np\n",
    "import pandas as pd\n",
    "import matplotlib.pyplot as plt\n",
    "import plotly.express as px\n",
    "from sklearn.preprocessing import StandardScaler\n",
    "from sklearn.decomposition import PCA"
   ]
  },
  {
   "cell_type": "code",
   "execution_count": null,
   "metadata": {},
   "outputs": [],
   "source": [
    "# import data ('penguin' dataset)\n",
    "data = pd.read_csv('penguins_lter.csv')\n",
    "data.drop(data.iloc[:,14:18], axis=1, inplace=True)\n",
    "data = data.dropna()\n",
    "\n",
    "# rename variables\n",
    "data.rename(columns={'Body Mass (g)':'body_mass'}, inplace=True) # inplace=\"True\" means that df will be updated\n",
    "data.rename(columns={'Culmen Depth (mm)':'culmen_depth'}, inplace=True) \n",
    "data.rename(columns={'Culmen Length (mm)':'culmen_length'}, inplace=True) \n",
    "data.rename(columns={'Flipper Length (mm)':'flipper_length'}, inplace=True)\n",
    "\n",
    "# Reduce dataframe\n",
    "\n",
    "data = data[[\"body_mass\", \"culmen_depth\", \"culmen_length\", \"flipper_length\", \"Species\"]]\n",
    "data.info()\n"
   ]
  },
  {
   "cell_type": "code",
   "execution_count": null,
   "metadata": {},
   "outputs": [],
   "source": [
    "# pairwise scatter plots\n",
    "features = [\"body_mass\", \"culmen_depth\", \"culmen_length\", \"flipper_length\"]\n",
    "\n",
    "fig = px.scatter_matrix(\n",
    "    data,\n",
    "    dimensions=features,\n",
    "    color=\"Species\",\n",
    "    width=1000, height=700\n",
    ")\n",
    "\n",
    "fig.update_traces(diagonal_visible=False)\n",
    "fig.show()"
   ]
  },
  {
   "cell_type": "code",
   "execution_count": null,
   "metadata": {},
   "outputs": [],
   "source": [
    "# PCA plots\n",
    "pca = PCA()\n",
    "components = pca.fit_transform(data[features])\n",
    "labels = {\n",
    "    str(i): f\"PC {i+1} ({var:.1f}%)\"\n",
    "    for i, var in enumerate(pca.explained_variance_ratio_ * 100)\n",
    "}\n",
    "\n",
    "fig = px.scatter_matrix(\n",
    "    components,\n",
    "    labels=labels,\n",
    "    dimensions=range(4),\n",
    "    color=data[\"Species\"],\n",
    "    width=1000, height=700\n",
    ")\n",
    "fig.update_traces(diagonal_visible=False)\n",
    "\n",
    "fig.show()"
   ]
  },
  {
   "attachments": {},
   "cell_type": "markdown",
   "metadata": {},
   "source": [
    "##### Example using the `winequality` dataset"
   ]
  },
  {
   "cell_type": "code",
   "execution_count": null,
   "metadata": {},
   "outputs": [],
   "source": [
    "from sklearn.preprocessing import StandardScaler\n",
    "\n",
    "df_wine = pd.read_csv('winequality_red.csv')\n",
    "df_wine2 = df_wine.iloc[:, 0:11]\n",
    "wine_scaled = StandardScaler().fit_transform(df_wine2)\n",
    "df_scaled = pd.DataFrame(data=wine_scaled, columns=df_wine2.columns)\n",
    "\n",
    "\n",
    "pca = PCA()\n",
    "components = pca.fit_transform(df_scaled)\n",
    "labels = {\n",
    "    str(i): f\"PC {i+1} ({var:.1f}%)\"\n",
    "    for i, var in enumerate(pca.explained_variance_ratio_ * 100)\n",
    "}\n",
    "\n",
    "fig = px.scatter_matrix(\n",
    "    components,\n",
    "    labels=labels,\n",
    "    dimensions=range(5), # Try to change the number of PC's (from 2 to 11, in this case)\n",
    "    color=df_wine[\"quality\"],\n",
    "    width=1000, height=900\n",
    ")\n",
    "fig.update_traces(diagonal_visible=False)\n",
    "\n",
    "fig.show()"
   ]
  },
  {
   "attachments": {},
   "cell_type": "markdown",
   "metadata": {},
   "source": [
    "### 3. Dash\n",
    "\n",
    "Python's `dash` module offers a framework for building interactive data visualization interfaces. `dash` helps to build interactive web applications and dashboards to visualize data without requiring advanced web development knowledge.\n",
    "\n",
    "Bellow you can find a example of a `dash` interactive plot to visualize PCA plots with a user defined number of components. To run the app, copy the code into a new file named pca-visualization.py and type into your terminal the following code:\n",
    "\n",
    "> python pca-visualization.py\n",
    "\n",
    "Then, go to the http link by using 'ctr... + mouse click'.\n",
    "\n",
    "To exit: 'ctr + c'"
   ]
  },
  {
   "attachments": {},
   "cell_type": "markdown",
   "metadata": {},
   "source": [
    "#### PCA with `Wine` Dataset"
   ]
  },
  {
   "cell_type": "code",
   "execution_count": null,
   "metadata": {},
   "outputs": [],
   "source": [
    "# ATENTION: THIS CODE DOES NOT WORK IN JUPYTER NOTEBOOK! \n",
    "# Need to copy-paste to a *.py file and run in command line (see above).\n",
    "\n",
    "# Import modules\n",
    "# import Dash, dcc (stands for Dash Core Components - this module includes a Graph component called dcc.Graph, \n",
    "# which is used to render interactive graphs amd dcc.slider to render an interactive slider).\n",
    "# We also import sklearn.decomposition.PCA to run a PCA, the plotly.express library to build the interactive graphs, \n",
    "# and pandas to work with DataFrames.\n",
    "\n",
    "from dash import Dash, dcc, html, Input, Output\n",
    "from sklearn.decomposition import PCA\n",
    "import plotly.express as px\n",
    "import pandas as pd\n",
    "from sklearn.preprocessing import StandardScaler\n",
    "\n",
    "df_wine = pd.read_csv('winequality_red.csv')\n",
    "\n",
    "# Initialize the app\n",
    "# This line is known as the Dash constructor and is responsible for initializing your app. \n",
    "# It is almost always the same for any Dash app you create.\n",
    "app = Dash(__name__)\n",
    "\n",
    "# App layout\n",
    "# The app layout represents the app components that will be displayed in the web browser, \n",
    "# normally contained within a html.Div.\n",
    "app.layout = html.Div([\n",
    "    html.H1(\"Visualization of PCA's explained variance\", style={'textAlign':'center'}),\n",
    "    dcc.Graph(id=\"pca-visualization-x-graph\"),\n",
    "    html.P(\"Number of components:\"),\n",
    "    dcc.Slider(\n",
    "        id='pca-visualization-x-slider',\n",
    "        min=2, max=11, value=2, step=1)\n",
    "])\n",
    "\n",
    "# Add controls to build the interaction\n",
    "# The inputs and outputs of our app are the properties of a particular component. \n",
    "# The output is the figure property of the component with the ID \"pca-visualization-x-graph\"\n",
    "# THe input is the value property of the component that has the ID \"pca-visualization-x-slider\".\n",
    "# The callback function's argument 'n_components' refers to the component property of the input. \n",
    "# We build PCA plots inside the callback function, assigning the chosen value in the slider. \n",
    "# This means that every time the user selects the number of components with the slider, the figure is rebuilt\n",
    "# to add more or less components\n",
    "# Finally, we return the scatter plots at the end of the function. \n",
    "# This assigns the plots to the figure property of the dcc.Graph, thus displaying the figure in the app.\n",
    "@app.callback(\n",
    "    Output(component_id=\"pca-visualization-x-graph\", component_property=\"figure\"), \n",
    "    Input(component_id=\"pca-visualization-x-slider\", component_property=\"value\"))\n",
    "\n",
    "def run_and_plot(n_components):\n",
    "    df_wine = pd.read_csv('winequality_red.csv')\n",
    "    df_wine2 = df_wine.iloc[:, 0:11]\n",
    "    wine_scaled = StandardScaler().fit_transform(df_wine2)\n",
    "    df = pd.DataFrame(data=wine_scaled, columns=df_wine2.columns)\n",
    "    pca = PCA(n_components=n_components) # defines the number of components in the PCA\n",
    "    components = pca.fit_transform(df) # fits a PCA\n",
    "    var = pca.explained_variance_ratio_.sum() * 100 # % of explained variance by each PC\n",
    "    labels = {str(i): f\"PC {i+1}\" for i in range(n_components)} # PC labels\n",
    "    labels['color'] = 'quality'\n",
    "    fig = px.scatter_matrix(\n",
    "        components,\n",
    "        color=df_wine['quality'],\n",
    "        dimensions=range(n_components),\n",
    "        labels=labels,\n",
    "        title=f'Total Explained Variance: {var:.2f}%',\n",
    "        width=1400, height=1300\n",
    "        )\n",
    "    fig.update_traces(diagonal_visible=False)\n",
    "    return fig\n",
    "\n",
    "# Run the app - These lines are for running your app, and they are almost always the same for any Dash app you create.\n",
    "if __name__ == \"__main__\":\n",
    "    app.run_server(debug=True)"
   ]
  },
  {
   "attachments": {},
   "cell_type": "markdown",
   "metadata": {},
   "source": [
    "#### Variation of human population per country 1959-2007"
   ]
  },
  {
   "cell_type": "code",
   "execution_count": null,
   "metadata": {},
   "outputs": [],
   "source": [
    "from dash import Dash, html, dcc, callback, Output, Input\n",
    "import plotly.express as px\n",
    "import pandas as pd\n",
    "\n",
    "df = pd.read_csv('https://raw.githubusercontent.com/plotly/datasets/master/gapminder_unfiltered.csv')\n",
    "\n",
    "app = Dash(__name__)\n",
    "\n",
    "app.layout = html.Div([\n",
    "    html.H1(children='Human Population Size', style={'textAlign':'center'}),\n",
    "    dcc.Dropdown(df.country.unique(), 'Portugal', id='dropdown-selection'), # dropdown menu\n",
    "    dcc.Graph(id='graph-content') \n",
    "])\n",
    "\n",
    "@callback(\n",
    "    Output('graph-content', 'figure'),\n",
    "    Input('dropdown-selection', 'value')\n",
    ")\n",
    "def update_graph(value):\n",
    "    dff = df[df.country==value]\n",
    "    return px.line(dff, x='year', y='pop') # Line graph\n",
    "\n",
    "if __name__ == '__main__':\n",
    "    app.run_server(debug=True)"
   ]
  },
  {
   "attachments": {},
   "cell_type": "markdown",
   "metadata": {},
   "source": [
    "### 4. Altair\n",
    "\n",
    "`Altair` is a module designed specially to generating interactive plots. This module has some specific advantages over more multi-specific purpose libraries such as `plotly`, as ilustrated in the following examples.\n",
    "\n",
    "We will use the Happy Planet Index (HPI) http://happyplanetindex.org/ dataset to ilustrate some potentialities of `altair`to generate scatter and bar plots with a variety of interactive elements. The dataset shows *where people are using ecological resources more efficiently to live long, happy lives*.\n",
    "\n",
    "Import the necessary modules or functions:"
   ]
  },
  {
   "cell_type": "code",
   "execution_count": null,
   "metadata": {},
   "outputs": [],
   "source": [
    "import seaborn as sns\n",
    "import matplotlib.pyplot as plt\n",
    "import pandas as pd\n",
    "import altair as alt"
   ]
  },
  {
   "attachments": {},
   "cell_type": "markdown",
   "metadata": {},
   "source": [
    "Download and check the dataset. Each line (datapoint) will correspond to a country."
   ]
  },
  {
   "cell_type": "code",
   "execution_count": null,
   "metadata": {},
   "outputs": [],
   "source": [
    "#Download the data from Github repo \n",
    "hpi_url = \"https://raw.githubusercontent.com/TrainingByPackt/Interactive-Data-Visualization-with-Python/master/datasets/hpi_data_countries.tsv\"\n",
    "\n",
    "# Once downloaded, read it into a dataframe using pandas\n",
    "hpi_df = pd.read_csv(hpi_url, sep='\\t')\n",
    "hpi_df.head()"
   ]
  },
  {
   "attachments": {},
   "cell_type": "markdown",
   "metadata": {},
   "source": [
    "Plot a static scatter plot with `matplotlib`"
   ]
  },
  {
   "cell_type": "code",
   "execution_count": null,
   "metadata": {},
   "outputs": [],
   "source": [
    "fig = plt.figure()\n",
    "ax = fig.add_subplot(111)\n",
    "ax = sns.scatterplot(x='Wellbeing (0-10)', y='Happy Planet Index', hue='Region', data=hpi_df)\n",
    "plt.show()"
   ]
  },
  {
   "attachments": {},
   "cell_type": "markdown",
   "metadata": {},
   "source": [
    "Add `zooming`"
   ]
  },
  {
   "cell_type": "code",
   "execution_count": null,
   "metadata": {},
   "outputs": [],
   "source": [
    "alt.Chart(hpi_df).mark_circle().encode( # mark_circle() denote datapoints using filled circles (use mark_points for empty circles)\n",
    "x='Wellbeing (0-10):Q', # with the encode function you specify the features on the x and y axes.\n",
    "y='Happy Planet Index:Q', # Q denotes quantitative features (helps altair to identify the type of features)\n",
    "color='Region:N', # N denotes nominal features\n",
    ").interactive() # makes the plot interactive for zooming (e.g. using the mouse wheel)"
   ]
  },
  {
   "attachments": {},
   "cell_type": "markdown",
   "metadata": {},
   "source": [
    "Add `hover`"
   ]
  },
  {
   "cell_type": "code",
   "execution_count": null,
   "metadata": {},
   "outputs": [],
   "source": [
    "selected_area = alt.selection_interval()\n",
    "alt.Chart(hpi_df).mark_circle().encode(\n",
    "x='Wellbeing (0-10):Q',\n",
    "y='Happy Planet Index:Q',\n",
    "color='Region:N',\n",
    "tooltip= ['Country', 'Region', 'Wellbeing (0-10)', 'Happy Planet Index', 'Life Expectancy (years)',] # add tooltip with the selected information\n",
    ")"
   ]
  },
  {
   "attachments": {},
   "cell_type": "markdown",
   "metadata": {},
   "source": [
    "`Hover` and `zooming`"
   ]
  },
  {
   "cell_type": "code",
   "execution_count": null,
   "metadata": {},
   "outputs": [],
   "source": [
    "selected_area = alt.selection_interval()\n",
    "alt.Chart(hpi_df).mark_circle().encode(\n",
    "x='Wellbeing (0-10):Q',\n",
    "y='Happy Planet Index:Q',\n",
    "color='Region:N',\n",
    "tooltip= ['Country', 'Region', 'Wellbeing (0-10)', 'Happy Planet Index', 'Life Expectancy (years)',] # add tooltip with the selected information\n",
    ").interactive()"
   ]
  },
  {
   "attachments": {},
   "cell_type": "markdown",
   "metadata": {},
   "source": [
    "`Select` and `highlight` functionality on a scatter plot"
   ]
  },
  {
   "cell_type": "code",
   "execution_count": null,
   "metadata": {},
   "outputs": [],
   "source": [
    "selected_area = alt.selection_interval() # define the selected area variable to store the selection interval\n",
    "\n",
    "alt.Chart(hpi_df).mark_circle().encode(\n",
    "x='Wellbeing (0-10):Q',\n",
    "y='Happy Planet Index:Q',\n",
    "color=alt.condition(selected_area, 'Region', alt. # condition to retain color only in points inside the selected area (try to click and drag to select a region)\n",
    "value('lightgray')),\n",
    "tooltip= ['Country', 'Region', 'Wellbeing (0-10)', 'Happy Planet Index', 'Life Expectancy (years)',]\n",
    ").add_params(selected_area)"
   ]
  },
  {
   "attachments": {},
   "cell_type": "markdown",
   "metadata": {},
   "source": [
    "Add hover, tooltip, select and highlight across multiple charts"
   ]
  },
  {
   "cell_type": "code",
   "execution_count": null,
   "metadata": {},
   "outputs": [],
   "source": [
    "# hover and tooltip across multiple charts\n",
    "selected_area = alt.selection_interval()\n",
    "\n",
    "chart = alt.Chart(hpi_df).mark_circle().encode(\n",
    "y='Happy Planet Index',\n",
    "color=alt.condition(selected_area, 'Region', alt.\n",
    "value('lightgray'))\n",
    ").add_params(selected_area)\n",
    "chart1 = chart.encode(x='Wellbeing (0-10)')\n",
    "chart2 = chart.encode(x='Life Expectancy (years)')\n",
    "chart1 | chart2"
   ]
  },
  {
   "attachments": {},
   "cell_type": "markdown",
   "metadata": {},
   "source": [
    "Selection based on values of a feature using a `dropdown menu`"
   ]
  },
  {
   "cell_type": "code",
   "execution_count": null,
   "metadata": {},
   "outputs": [],
   "source": [
    "selected_area = alt.selection_interval()\n",
    "\n",
    "input_dropdown = alt.binding_select(options=list(set(hpi_df.Region)))\n",
    "selected_points = alt.selection_single(fields=['Region'], bind=input_dropdown, name='Select')\n",
    "color = alt.condition(selected_points,\n",
    "alt.Color('Region:N'),\n",
    "alt.value('lightgray'))\n",
    "alt.Chart(hpi_df).mark_circle().encode(\n",
    "x='Wellbeing (0-10):Q',\n",
    "y='Happy Planet Index:Q',\n",
    "color=color,\n",
    "tooltip='Region:N'\n",
    ").add_params(selected_points)"
   ]
  },
  {
   "attachments": {},
   "cell_type": "markdown",
   "metadata": {},
   "source": [
    "Barplot with line representing the mean of the selected bars"
   ]
  },
  {
   "cell_type": "code",
   "execution_count": null,
   "metadata": {},
   "outputs": [],
   "source": [
    "selected_bars = alt.selection_interval(encodings=['x'])\n",
    "\n",
    "bars = alt.Chart(hpi_df).mark_bar().encode(\n",
    "x='Region:N',\n",
    "y='mean(Happy Planet Index):Q',\n",
    "opacity=alt.condition(selected_bars, alt.OpacityValue(1), alt.\n",
    "OpacityValue(0.7)),\n",
    ").properties(width=400).add_params(selected_bars)\n",
    "\n",
    "line = alt.Chart(hpi_df).mark_rule(color='firebrick').encode( # draw a line representing the mean \"Happy Planet Index\"\n",
    "y='mean(Happy Planet Index):Q',\n",
    "size=alt.SizeValue(3) # set line thickness\n",
    ").transform_filter(selected_bars) # condition to only consider the mean of the selected bars\n",
    "bars + line"
   ]
  },
  {
   "attachments": {},
   "cell_type": "markdown",
   "metadata": {},
   "source": [
    "Heatplot with interactive zooming"
   ]
  },
  {
   "cell_type": "code",
   "execution_count": null,
   "metadata": {},
   "outputs": [],
   "source": [
    "alt.Chart(hpi_df).mark_rect().encode(\n",
    "alt.X('Happy Planet Index:Q', bin=True),\n",
    "alt.Y('Wellbeing (0-10):Q', bin=True),\n",
    "alt.Color('count()',\n",
    "scale=alt.Scale(scheme='greenblue'),\n",
    "legend=alt.Legend(title='Total Countries')\n",
    ")\n",
    ").interactive()"
   ]
  },
  {
   "attachments": {},
   "cell_type": "markdown",
   "metadata": {},
   "source": [
    "Dinamically linking a bar plot and a heatmap.\n",
    "\n",
    "Static plots"
   ]
  },
  {
   "cell_type": "code",
   "execution_count": null,
   "metadata": {},
   "outputs": [],
   "source": [
    "#Merge the code to place the bar chart and heatmap next to each other.\n",
    "bars = alt.Chart(hpi_df).mark_bar().encode(\n",
    "    x='Region:N',\n",
    "    y='count():Q',\n",
    ").properties(width=350)\n",
    "\n",
    "heatmap = alt.Chart(hpi_df).mark_rect().encode(\n",
    "    alt.X('Wellbeing (0-10):Q', bin=True),\n",
    "    alt.Y('Life Expectancy (years):Q', bin=True),\n",
    "    alt.Color('count()',\n",
    "        scale=alt.Scale(scheme='greenblue'),\n",
    "        legend=alt.Legend(title='Total Countries')\n",
    "    )\n",
    ").properties(width=350)\n",
    "\n",
    "bars | heatmap"
   ]
  },
  {
   "attachments": {},
   "cell_type": "markdown",
   "metadata": {},
   "source": [
    "Dynamic plots"
   ]
  },
  {
   "cell_type": "code",
   "execution_count": null,
   "metadata": {},
   "outputs": [],
   "source": [
    "# Heatplot\n",
    "selected_region = alt.selection(type=\"single\", encodings=['x'])\n",
    "\n",
    "heatmap = alt.Chart(hpi_df).mark_rect().encode(\n",
    "    alt.X('Wellbeing (0-10):Q', bin=True),\n",
    "    alt.Y('Life Expectancy (years):Q', bin=True),\n",
    "    alt.Color('count()',\n",
    "        scale=alt.Scale(scheme='greenblue'),\n",
    "        legend=alt.Legend(title='Total Countries')\n",
    "    )\n",
    ").properties(width=350)"
   ]
  },
  {
   "cell_type": "code",
   "execution_count": null,
   "metadata": {},
   "outputs": [],
   "source": [
    "# Place circles in the heatplot denoting the number of samples \n",
    "circles = heatmap.mark_point().encode(\n",
    "    alt.ColorValue('grey'),\n",
    "    alt.Size('count()',\n",
    "        legend=alt.Legend(title='Records in Selection')\n",
    "    )\n",
    ").transform_filter(selected_region)"
   ]
  },
  {
   "attachments": {},
   "cell_type": "markdown",
   "metadata": {},
   "source": [
    "After the following code try to click on top on each bar."
   ]
  },
  {
   "cell_type": "code",
   "execution_count": null,
   "metadata": {},
   "outputs": [],
   "source": [
    "#Place the bars\n",
    "bars = alt.Chart(hpi_df).mark_bar().encode(\n",
    "    x='Region:N',\n",
    "    y='count()',\n",
    "    color=alt.condition(selected_region, alt.ColorValue(\"steelblue\"), alt.ColorValue(\"grey\"))\n",
    ").properties(\n",
    "    width=350\n",
    ").add_params(selected_region)\n",
    "\n",
    "bars | heatmap + circles"
   ]
  },
  {
   "attachments": {},
   "cell_type": "markdown",
   "metadata": {},
   "source": [
    "## References\n",
    "\n",
    "Dash Python User Guide. https://dash.plotly.com/\n",
    "\n",
    "Dash in 20 Minutes. https://dash.plotly.com/tutorial\n",
    "\n",
    "Interactive Data Visualization with Python. https://github.com/TrainingByPackt/Interactive-Data-Visualization-with-Python \n",
    "\n",
    "PCA Visualization in Python. https://plotly.com/python/pca-visualization/\n",
    "\n",
    "Plotly Express in Python. https://plotly.com/python/plotly-express/\n",
    "\n",
    "Plotly Open Source Graphing Library for Python. https://plotly.com/python/\n",
    "\n",
    "3 Cool Features of Python Altair. https://towardsdatascience.com/3-cool-features-of-python-altair-deb3f432cc11"
   ]
  }
 ],
 "metadata": {
  "kernelspec": {
   "display_name": "Python 3",
   "language": "python",
   "name": "python3"
  },
  "language_info": {
   "codemirror_mode": {
    "name": "ipython",
    "version": 3
   },
   "file_extension": ".py",
   "mimetype": "text/x-python",
   "name": "python",
   "nbconvert_exporter": "python",
   "pygments_lexer": "ipython3",
   "version": "3.11.2"
  },
  "orig_nbformat": 4
 },
 "nbformat": 4,
 "nbformat_minor": 2
}
